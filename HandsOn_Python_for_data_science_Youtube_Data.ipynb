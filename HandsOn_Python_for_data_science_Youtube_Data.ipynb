{
  "cells": [
    {
      "cell_type": "markdown",
      "metadata": {
        "id": "view-in-github",
        "colab_type": "text"
      },
      "source": [
        "<a href=\"https://colab.research.google.com/github/GTLibraryDataVisualization/Python-Visualization-for-Data-Science-Introduction-2020/blob/main/HandsOn_Python_for_data_science_Youtube_Data.ipynb\" target=\"_parent\"><img src=\"https://colab.research.google.com/assets/colab-badge.svg\" alt=\"Open In Colab\"/></a>"
      ]
    },
    {
      "cell_type": "markdown",
      "metadata": {
        "id": "BK3Grm0BUrh1"
      },
      "source": [
        "Python for Data Science\n",
        "\n",
        "    During this workshop we will give an intro to: \n",
        "    Reading in a dataset using Pandas\n",
        "    Data manupulation using Pandas\n",
        "    Inroduction/conversion to numpy\n",
        "    simple visualizations. \n",
        "\n",
        "We will be using Google Collab for this. This notebook has some blank cells that we will be filling in and working through over the course of the workshop."
      ]
    },
    {
      "cell_type": "markdown",
      "metadata": {
        "id": "kldYre5iUrh7"
      },
      "source": [
        "Data source: https://www.kaggle.com/datasnaek/youtube-new?select=CAvideos.csv"
      ]
    },
    {
      "cell_type": "code",
      "source": [
        "# in case your Collab environment or even local environment returns a ModuleNotFoundError, \n",
        "# run this cell to install all the libraries we will use today.\n",
        "\n",
        "!pip install numpy pandas seaborn"
      ],
      "metadata": {
        "id": "ALLoA3Aloh0a",
        "colab": {
          "base_uri": "https://localhost:8080/"
        },
        "outputId": "c0740ba2-17ba-4cc2-b36f-cbdf9d973077"
      },
      "execution_count": 64,
      "outputs": [
        {
          "output_type": "stream",
          "name": "stdout",
          "text": [
            "Looking in indexes: https://pypi.org/simple, https://us-python.pkg.dev/colab-wheels/public/simple/\n",
            "Requirement already satisfied: numpy in /usr/local/lib/python3.7/dist-packages (1.21.6)\n",
            "Requirement already satisfied: pandas in /usr/local/lib/python3.7/dist-packages (1.3.5)\n",
            "Requirement already satisfied: seaborn in /usr/local/lib/python3.7/dist-packages (0.11.2)\n",
            "Requirement already satisfied: python-dateutil>=2.7.3 in /usr/local/lib/python3.7/dist-packages (from pandas) (2.8.2)\n",
            "Requirement already satisfied: pytz>=2017.3 in /usr/local/lib/python3.7/dist-packages (from pandas) (2022.6)\n",
            "Requirement already satisfied: six>=1.5 in /usr/local/lib/python3.7/dist-packages (from python-dateutil>=2.7.3->pandas) (1.15.0)\n",
            "Requirement already satisfied: scipy>=1.0 in /usr/local/lib/python3.7/dist-packages (from seaborn) (1.7.3)\n",
            "Requirement already satisfied: matplotlib>=2.2 in /usr/local/lib/python3.7/dist-packages (from seaborn) (3.2.2)\n",
            "Requirement already satisfied: kiwisolver>=1.0.1 in /usr/local/lib/python3.7/dist-packages (from matplotlib>=2.2->seaborn) (1.4.4)\n",
            "Requirement already satisfied: pyparsing!=2.0.4,!=2.1.2,!=2.1.6,>=2.0.1 in /usr/local/lib/python3.7/dist-packages (from matplotlib>=2.2->seaborn) (3.0.9)\n",
            "Requirement already satisfied: cycler>=0.10 in /usr/local/lib/python3.7/dist-packages (from matplotlib>=2.2->seaborn) (0.11.0)\n",
            "Requirement already satisfied: typing-extensions in /usr/local/lib/python3.7/dist-packages (from kiwisolver>=1.0.1->matplotlib>=2.2->seaborn) (4.1.1)\n"
          ]
        }
      ]
    },
    {
      "cell_type": "code",
      "execution_count": 65,
      "metadata": {
        "id": "lpcxprzhUrh-",
        "colab": {
          "base_uri": "https://localhost:8080/"
        },
        "outputId": "73385796-591b-4195-da85-8e17c9dd0a87"
      },
      "outputs": [
        {
          "output_type": "stream",
          "name": "stdout",
          "text": [
            "0.11.2\n",
            "1.3.5\n",
            "1.21.6\n"
          ]
        }
      ],
      "source": [
        "import numpy as np\n",
        "import pandas as pd\n",
        "import seaborn as sns\n",
        "import matplotlib.pyplot as plt\n",
        "\n",
        "print (sns.__version__)\n",
        "print (pd.__version__)\n",
        "print (np.version.version)"
      ]
    },
    {
      "cell_type": "markdown",
      "metadata": {
        "id": "E1q75AQlUriF"
      },
      "source": [
        "Numpy and Pandas are the premiere data manipulation packages for python.\n",
        "The purpose of Pandas is to bring in the functionality of a dataframe.\n",
        "This gives us a fast way to work with relational, or labeled data.\n",
        "Let us look at how the basis of pandas works.\n",
        "\n",
        "        Note: even though I will be mainly using Pandas for this exercise\n",
        "        Pandas is actually built on top of Numpy, meaning a vast majority of \n",
        "        the functions we will be covering, can be used just as easily in numpy.\n",
        "        \n",
        "To explain the differences between the two:\n",
        "            \n",
        "        Numpy is used for creating Arrays - These arrays can be any number of dimensions, but \n",
        "        they do not have column or index labels - Numpy is essentially a more efficient version\n",
        "        of the List in Python.\n",
        "        Pandas is used for dataframes - This is more organized data that has column names AND an\n",
        "        index.  It is Numpy with a more mandatory structure."
      ]
    },
    {
      "cell_type": "markdown",
      "metadata": {
        "id": "7zJIp_WUUriG"
      },
      "source": [
        "## Import data"
      ]
    },
    {
      "cell_type": "code",
      "execution_count": null,
      "metadata": {
        "id": "RTIArWqMUrkE",
        "colab": {
          "base_uri": "https://localhost:8080/",
          "height": 38
        },
        "outputId": "e3719678-23d3-4d2c-da3a-820801205b0c"
      },
      "outputs": [
        {
          "output_type": "display_data",
          "data": {
            "text/plain": [
              "<IPython.core.display.HTML object>"
            ],
            "text/html": [
              "\n",
              "     <input type=\"file\" id=\"files-f6bb9f5e-e7ca-41a8-88fc-2aeefd84409f\" name=\"files[]\" multiple disabled\n",
              "        style=\"border:none\" />\n",
              "     <output id=\"result-f6bb9f5e-e7ca-41a8-88fc-2aeefd84409f\">\n",
              "      Upload widget is only available when the cell has been executed in the\n",
              "      current browser session. Please rerun this cell to enable.\n",
              "      </output>\n",
              "      <script>// Copyright 2017 Google LLC\n",
              "//\n",
              "// Licensed under the Apache License, Version 2.0 (the \"License\");\n",
              "// you may not use this file except in compliance with the License.\n",
              "// You may obtain a copy of the License at\n",
              "//\n",
              "//      http://www.apache.org/licenses/LICENSE-2.0\n",
              "//\n",
              "// Unless required by applicable law or agreed to in writing, software\n",
              "// distributed under the License is distributed on an \"AS IS\" BASIS,\n",
              "// WITHOUT WARRANTIES OR CONDITIONS OF ANY KIND, either express or implied.\n",
              "// See the License for the specific language governing permissions and\n",
              "// limitations under the License.\n",
              "\n",
              "/**\n",
              " * @fileoverview Helpers for google.colab Python module.\n",
              " */\n",
              "(function(scope) {\n",
              "function span(text, styleAttributes = {}) {\n",
              "  const element = document.createElement('span');\n",
              "  element.textContent = text;\n",
              "  for (const key of Object.keys(styleAttributes)) {\n",
              "    element.style[key] = styleAttributes[key];\n",
              "  }\n",
              "  return element;\n",
              "}\n",
              "\n",
              "// Max number of bytes which will be uploaded at a time.\n",
              "const MAX_PAYLOAD_SIZE = 100 * 1024;\n",
              "\n",
              "function _uploadFiles(inputId, outputId) {\n",
              "  const steps = uploadFilesStep(inputId, outputId);\n",
              "  const outputElement = document.getElementById(outputId);\n",
              "  // Cache steps on the outputElement to make it available for the next call\n",
              "  // to uploadFilesContinue from Python.\n",
              "  outputElement.steps = steps;\n",
              "\n",
              "  return _uploadFilesContinue(outputId);\n",
              "}\n",
              "\n",
              "// This is roughly an async generator (not supported in the browser yet),\n",
              "// where there are multiple asynchronous steps and the Python side is going\n",
              "// to poll for completion of each step.\n",
              "// This uses a Promise to block the python side on completion of each step,\n",
              "// then passes the result of the previous step as the input to the next step.\n",
              "function _uploadFilesContinue(outputId) {\n",
              "  const outputElement = document.getElementById(outputId);\n",
              "  const steps = outputElement.steps;\n",
              "\n",
              "  const next = steps.next(outputElement.lastPromiseValue);\n",
              "  return Promise.resolve(next.value.promise).then((value) => {\n",
              "    // Cache the last promise value to make it available to the next\n",
              "    // step of the generator.\n",
              "    outputElement.lastPromiseValue = value;\n",
              "    return next.value.response;\n",
              "  });\n",
              "}\n",
              "\n",
              "/**\n",
              " * Generator function which is called between each async step of the upload\n",
              " * process.\n",
              " * @param {string} inputId Element ID of the input file picker element.\n",
              " * @param {string} outputId Element ID of the output display.\n",
              " * @return {!Iterable<!Object>} Iterable of next steps.\n",
              " */\n",
              "function* uploadFilesStep(inputId, outputId) {\n",
              "  const inputElement = document.getElementById(inputId);\n",
              "  inputElement.disabled = false;\n",
              "\n",
              "  const outputElement = document.getElementById(outputId);\n",
              "  outputElement.innerHTML = '';\n",
              "\n",
              "  const pickedPromise = new Promise((resolve) => {\n",
              "    inputElement.addEventListener('change', (e) => {\n",
              "      resolve(e.target.files);\n",
              "    });\n",
              "  });\n",
              "\n",
              "  const cancel = document.createElement('button');\n",
              "  inputElement.parentElement.appendChild(cancel);\n",
              "  cancel.textContent = 'Cancel upload';\n",
              "  const cancelPromise = new Promise((resolve) => {\n",
              "    cancel.onclick = () => {\n",
              "      resolve(null);\n",
              "    };\n",
              "  });\n",
              "\n",
              "  // Wait for the user to pick the files.\n",
              "  const files = yield {\n",
              "    promise: Promise.race([pickedPromise, cancelPromise]),\n",
              "    response: {\n",
              "      action: 'starting',\n",
              "    }\n",
              "  };\n",
              "\n",
              "  cancel.remove();\n",
              "\n",
              "  // Disable the input element since further picks are not allowed.\n",
              "  inputElement.disabled = true;\n",
              "\n",
              "  if (!files) {\n",
              "    return {\n",
              "      response: {\n",
              "        action: 'complete',\n",
              "      }\n",
              "    };\n",
              "  }\n",
              "\n",
              "  for (const file of files) {\n",
              "    const li = document.createElement('li');\n",
              "    li.append(span(file.name, {fontWeight: 'bold'}));\n",
              "    li.append(span(\n",
              "        `(${file.type || 'n/a'}) - ${file.size} bytes, ` +\n",
              "        `last modified: ${\n",
              "            file.lastModifiedDate ? file.lastModifiedDate.toLocaleDateString() :\n",
              "                                    'n/a'} - `));\n",
              "    const percent = span('0% done');\n",
              "    li.appendChild(percent);\n",
              "\n",
              "    outputElement.appendChild(li);\n",
              "\n",
              "    const fileDataPromise = new Promise((resolve) => {\n",
              "      const reader = new FileReader();\n",
              "      reader.onload = (e) => {\n",
              "        resolve(e.target.result);\n",
              "      };\n",
              "      reader.readAsArrayBuffer(file);\n",
              "    });\n",
              "    // Wait for the data to be ready.\n",
              "    let fileData = yield {\n",
              "      promise: fileDataPromise,\n",
              "      response: {\n",
              "        action: 'continue',\n",
              "      }\n",
              "    };\n",
              "\n",
              "    // Use a chunked sending to avoid message size limits. See b/62115660.\n",
              "    let position = 0;\n",
              "    do {\n",
              "      const length = Math.min(fileData.byteLength - position, MAX_PAYLOAD_SIZE);\n",
              "      const chunk = new Uint8Array(fileData, position, length);\n",
              "      position += length;\n",
              "\n",
              "      const base64 = btoa(String.fromCharCode.apply(null, chunk));\n",
              "      yield {\n",
              "        response: {\n",
              "          action: 'append',\n",
              "          file: file.name,\n",
              "          data: base64,\n",
              "        },\n",
              "      };\n",
              "\n",
              "      let percentDone = fileData.byteLength === 0 ?\n",
              "          100 :\n",
              "          Math.round((position / fileData.byteLength) * 100);\n",
              "      percent.textContent = `${percentDone}% done`;\n",
              "\n",
              "    } while (position < fileData.byteLength);\n",
              "  }\n",
              "\n",
              "  // All done.\n",
              "  yield {\n",
              "    response: {\n",
              "      action: 'complete',\n",
              "    }\n",
              "  };\n",
              "}\n",
              "\n",
              "scope.google = scope.google || {};\n",
              "scope.google.colab = scope.google.colab || {};\n",
              "scope.google.colab._files = {\n",
              "  _uploadFiles,\n",
              "  _uploadFilesContinue,\n",
              "};\n",
              "})(self);\n",
              "</script> "
            ]
          },
          "metadata": {}
        }
      ],
      "source": [
        "# the first way to upload file is by using files function of Google Colab and upload it from your device\n",
        "\n",
        "from google.colab import files\n",
        "uploaded = files.upload()\n",
        "fp = open(\"Youtube_CAvideos_clean.csv\",\"r\") \n"
      ]
    },
    {
      "cell_type": "code",
      "execution_count": null,
      "metadata": {
        "id": "CBZW0v7Vujnc"
      },
      "outputs": [],
      "source": [
        "\n",
        "#as we can see below, we have a dataframe, we have labeled columns, and numbered rows.  \n",
        "#This will allow us to quickly isolate rows or columns and perform operations on them quickly "
      ]
    },
    {
      "cell_type": "code",
      "execution_count": null,
      "metadata": {
        "id": "21_LI_RNUrkN"
      },
      "outputs": [],
      "source": [
        "# seeing more structural info\n",
        "df.info()"
      ]
    },
    {
      "cell_type": "markdown",
      "metadata": {
        "id": "lFdkIcm8Urkc"
      },
      "source": [
        "### Shrink down the data with selected columns"
      ]
    },
    {
      "cell_type": "code",
      "execution_count": null,
      "metadata": {
        "id": "Vtt1ZkCPUrke"
      },
      "outputs": [],
      "source": [
        "# trim off columns we are not going to use for this workshop\n",
        "df_simp = \n",
        "# we want to convert category to a string instead of a number\n",
        "\n",
        "print (df_simp.dtypes)"
      ]
    },
    {
      "cell_type": "markdown",
      "metadata": {
        "id": "W3OdURuKUrke"
      },
      "source": [
        "### Check values in columns and clean the messy data"
      ]
    },
    {
      "cell_type": "markdown",
      "metadata": {
        "id": "MEPsTFBpUrke"
      },
      "source": [
        "The first manipulation we would want to make is only select columns we may want to work with, and ignore columns we do not. "
      ]
    },
    {
      "cell_type": "markdown",
      "metadata": {
        "id": "IVKNSmePUrkj"
      },
      "source": [
        "### Sort the data by categories"
      ]
    },
    {
      "cell_type": "code",
      "execution_count": null,
      "metadata": {
        "id": "BvLPpBv5Urkk"
      },
      "outputs": [],
      "source": [
        "df_sort = \n",
        "df_sort\n",
        "#To make our data is more viewable, we will use the function dataframe.sort_values\n",
        "#With this, we can first sort by the numbers of views, then sort by likes\n",
        "#To sort from the greatest to the least, by setting ascending = to false!\n",
        "\n",
        "#look how readable our results are!"
      ]
    },
    {
      "cell_type": "markdown",
      "metadata": {
        "id": "umAYtwemUrkl"
      },
      "source": [
        "## Basic Statistical Analysis "
      ]
    },
    {
      "cell_type": "markdown",
      "metadata": {
        "id": "SisHHDsEUrkl"
      },
      "source": [
        "Overview of statistics of the whole dataset."
      ]
    },
    {
      "cell_type": "code",
      "execution_count": null,
      "metadata": {
        "id": "oUGPFsWNUrkm"
      },
      "outputs": [],
      "source": [
        "#Finally, what if before all colorful graphs, we want to know the statistical aspects about our data?\n",
        "#Pandas again, comes to the rescue and makes it fairly simple to collect numbers\n",
        "\n",
        "print(\"Total views of all trending videos are: {}\".format(df.views.sum()))\n",
        "print(\"Average views of all trending videos are: {}\".format(df.views.mean()))\n",
        "print(\"Total likes of all trending videos are: {}\".format(df.likes.sum()))\n",
        "print(\"Total comments of all trending videos are: {}\".format(df.comment_count.sum()))\n",
        "\n"
      ]
    },
    {
      "cell_type": "code",
      "source": [
        "# Correlation within the whole dataframe\n"
      ],
      "metadata": {
        "id": "LX6_oxkSU7vZ"
      },
      "execution_count": null,
      "outputs": []
    },
    {
      "cell_type": "code",
      "source": [
        "# Correlation between two columns\n",
        "corr = \n",
        "corr"
      ],
      "metadata": {
        "id": "RaOiYBUBVZGF"
      },
      "execution_count": null,
      "outputs": []
    },
    {
      "cell_type": "markdown",
      "metadata": {
        "id": "R2ov5_1CUrkp"
      },
      "source": [
        "Compare the overall statistical distribution to a subset of data."
      ]
    },
    {
      "cell_type": "code",
      "execution_count": null,
      "metadata": {
        "id": "YfX_zzxGUrkq"
      },
      "outputs": [],
      "source": [
        "#let's review the categories and see what we got here.\n",
        "categories = \n",
        "\n",
        "# How many videos are available under each category\n"
      ]
    },
    {
      "cell_type": "markdown",
      "metadata": {
        "id": "tZyASnOmUrkr"
      },
      "source": [
        "Create a subcategory of the dataset."
      ]
    },
    {
      "cell_type": "code",
      "execution_count": null,
      "metadata": {
        "id": "M8_qf5aFUrks"
      },
      "outputs": [],
      "source": [
        "# we can create a sub-dataset with a few categories to work on.\n",
        "cat_list=[25,28,17,10]\n"
      ]
    },
    {
      "cell_type": "code",
      "execution_count": null,
      "metadata": {
        "id": "sMzpmmnyUrks"
      },
      "outputs": [],
      "source": [
        "#Lets look at Category 24 statistics to further analyze their data\n",
        "cats_stats= \n",
        "\n",
        "\n"
      ]
    },
    {
      "cell_type": "markdown",
      "metadata": {
        "id": "gpU-un0qUrkl"
      },
      "source": [
        "Now we are going to move into Visualizing and Analyzing our data!\n",
        "\n",
        "    for this, we will be using a relatively new data vizualization package called Seaborn\n",
        "    If you are familiar with Matplotlib, it is similar and based on Matplotlib. \n",
        "    The difference is something that takes 10 lines in matplotlib, can be done in 1 with seaborn, \n",
        "    making it ideal for super quick and easy visualizations. In fact, it actually inherits a lot of \n",
        "    what it does from matplotlib. For example, in order to change the title, we will be calling a \n",
        "    matplotlib function, not a seaborn one!  \n",
        "    \n",
        "    To make it even better, its built to work with Pandas!\n",
        "    Lets look at the example below to see how we can make a plot with a line of best fit\n",
        "     \n",
        "\n",
        "     "
      ]
    },
    {
      "cell_type": "markdown",
      "metadata": {
        "id": "I05NlXjgUrkv"
      },
      "source": [
        "## Visualization"
      ]
    },
    {
      "cell_type": "code",
      "execution_count": null,
      "metadata": {
        "id": "Ky37tzRpUrkz"
      },
      "outputs": [],
      "source": [
        "#give an outline or plan for viz types\n",
        "for col in cats:\n",
        "    print (col)"
      ]
    },
    {
      "cell_type": "code",
      "execution_count": null,
      "metadata": {
        "id": "h2Ibmy7nUrk0"
      },
      "outputs": [],
      "source": [
        "#so we renamed seaborn as sns.  Now let's call sns.lmplot, which stands for linear model plot\n",
        "#It will include both our X and Y scatterplot, and automatically \n",
        "\n",
        "import seaborn as sns\n",
        "\n",
        "\n",
        "#As you can see, we created a beautiful viz with only 1 line of code, and needed   \n",
        "# one more to add a title!  That is powerful."
      ]
    },
    {
      "cell_type": "code",
      "execution_count": null,
      "metadata": {
        "id": "yfWOg8gRUrk9"
      },
      "outputs": [],
      "source": [
        "#Seaborn's custemization features\n",
        "#Let's see how it can define colors of the variables and resize the charts.\n",
        "\n",
        "g = \n",
        "#In addition, lets learn how to save this graph!\n"
      ]
    },
    {
      "cell_type": "code",
      "execution_count": null,
      "metadata": {
        "id": "Eyrq8dj7UrlL"
      },
      "outputs": [],
      "source": [
        "# On top of that, Seaborn can also assign markers and apply new palette to the charts.\n",
        "\n"
      ]
    },
    {
      "cell_type": "markdown",
      "metadata": {
        "id": "l-s2VxvrUrlO"
      },
      "source": [
        "### Categorical scatterplots\n",
        "\n",
        "* `catplot()`\n",
        "* `stripplot()`\n",
        "* `swarmplot()`"
      ]
    },
    {
      "cell_type": "code",
      "execution_count": null,
      "metadata": {
        "id": "R0e-gM_kUrlV"
      },
      "outputs": [],
      "source": [
        "cats.info()"
      ]
    },
    {
      "cell_type": "code",
      "execution_count": null,
      "metadata": {
        "id": "sHTfV-YHUrlV",
        "scrolled": true
      },
      "outputs": [],
      "source": [
        "#The default “kind” in catplot() is stripplot().\n",
        "#It is to adjust the positions of points on the categorical axis with a small amount of random “jitter”:\n",
        "\n",
        "\n",
        "#If you wish to remove the jitter effect, just set jitter function as False.\n"
      ]
    },
    {
      "cell_type": "markdown",
      "metadata": {
        "id": "nTu4NYyZUrlX"
      },
      "source": [
        "The second approach, the swarmplot(), uses algorithm to avoid data points from overlapping each other.\n",
        "\n",
        "For this approach you cannot have too large of a dataset tho, as there may not be enough space to show \n",
        "all of them.\n",
        "\n",
        "Below we create a subset of of cats dataset to demonstrate."
      ]
    },
    {
      "cell_type": "code",
      "execution_count": null,
      "metadata": {
        "id": "cg1j8ZigUrlX"
      },
      "outputs": [],
      "source": [
        "df_swarm=cats.head(1000)"
      ]
    },
    {
      "cell_type": "code",
      "execution_count": null,
      "metadata": {
        "id": "3e77mGivUrlY"
      },
      "outputs": [],
      "source": [
        "\n",
        " # Swarm Plot\n",
        " # Recolors to add a new dimension"
      ]
    },
    {
      "cell_type": "markdown",
      "metadata": {
        "id": "drwHgi1IUrlY"
      },
      "source": [
        "### Categorical distribution plots\n",
        "\n",
        "* `boxplot()`\n",
        "* `violinplot()`\n",
        "* `boxenplot()`"
      ]
    },
    {
      "cell_type": "code",
      "execution_count": null,
      "metadata": {
        "id": "AAMGxB8GUrlY"
      },
      "outputs": [],
      "source": [
        "df_cat = cats[:700]\n",
        "df_cat = df_cat[df_cat[\"comments_disabled\"]==False]\n",
        "\n"
      ]
    },
    {
      "cell_type": "code",
      "execution_count": null,
      "metadata": {
        "id": "roKpctF7Urla",
        "collapsed": true
      },
      "outputs": [],
      "source": [
        "\n"
      ]
    },
    {
      "cell_type": "code",
      "execution_count": null,
      "metadata": {
        "id": "0Iuz8IqNUrlb"
      },
      "outputs": [],
      "source": [
        "\n",
        "# sns.catplot(x=\"likes\", y=\"category_id\",  kind=\"violin\",  split=True, inner=\"stick\", data=df_cat)"
      ]
    },
    {
      "cell_type": "markdown",
      "metadata": {
        "id": "lYGtsk0pUrlc"
      },
      "source": [
        "## Categorical estimate Plots\n",
        "* `pointplot()`\n",
        "* `barplot()`\n",
        "* `countplot()`\n",
        "\n",
        "A bar plot represents an estimate of data tendency.\n",
        "The height of each rectangle represents the central tendency for a numeric variable.\n",
        "The black bar on top provides some indication of the uncertainty around that estimate using error bars.\n",
        "\n",
        "barplots and countplots are simpler ways of implementing the same functions as a bar catplot, \n",
        "what you need (control vs simlicity) determines which one you pick."
      ]
    },
    {
      "cell_type": "code",
      "execution_count": null,
      "metadata": {
        "id": "75eDfVePUrlc"
      },
      "outputs": [],
      "source": [
        "#sns.catplot(x=\"category_id\", kind=\"swarm\", palette=\"ch:.25\", data=cats, height=4, aspect=2) #hue=\"\","
      ]
    },
    {
      "cell_type": "code",
      "execution_count": null,
      "metadata": {
        "id": "37UoaP4YUrlc"
      },
      "outputs": [],
      "source": [
        "\n",
        "\n",
        "# by default these black lines represent our confidence interfval, which we can remove with \"ci=None\".\n",
        "# the default uses the standard deviation"
      ]
    },
    {
      "cell_type": "markdown",
      "metadata": {
        "id": "CAtd9NcnUrld"
      },
      "source": [
        "## Regressions"
      ]
    },
    {
      "cell_type": "markdown",
      "metadata": {
        "id": "d1vx8TavUrle"
      },
      "source": [
        "Two main functions in seaborn to visualize a linear relationship as determined through regression are regplot() and lmplot(). They share much of  core functionality: both plots draw a scatterplot of two variables, x and y, and then fit the regression model y ~ x and plot the resulting regression line and a 95% confidence interval for that regression.\n",
        "\n",
        "Differences: \n",
        "1. regplot() accepts the x and y variables in a variety of formats, lmplot() has data as a required parameter and the x and y variables must be specified as strings\n",
        "2. While regplot() always shows a single relationship, lmplot() combines regplot() with FacetGrid to show a linear regression on “faceted” plots that allow you to explore interactions with up to three additional categorical variables."
      ]
    },
    {
      "cell_type": "code",
      "execution_count": null,
      "metadata": {
        "id": "cXh5E1BVUrlf"
      },
      "outputs": [],
      "source": []
    },
    {
      "cell_type": "markdown",
      "metadata": {
        "id": "unpvxDdpUrlf"
      },
      "source": [
        "Other than the shape of our charts `sns.regplot()` and `sns.lmplot()` create some similar linear regressions. Thats normal as `sns.regplot()` combines `sns.regplot()` with a `FacetGrid`. This basically means with `sns.lmplot()` we can explore relationships between more than two variables."
      ]
    },
    {
      "cell_type": "markdown",
      "metadata": {
        "id": "3yAhqo24Urlf"
      },
      "source": [
        "And exploring different variables through subplots."
      ]
    },
    {
      "cell_type": "code",
      "execution_count": null,
      "metadata": {
        "id": "VduPZZiwUrlf"
      },
      "outputs": [],
      "source": []
    },
    {
      "cell_type": "code",
      "execution_count": null,
      "metadata": {
        "id": "wN7a-voeUrlf"
      },
      "outputs": [],
      "source": [
        "\n",
        "sns.jointplot(x=\"views\", y=\"likes\", data=cats, kind=\"reg\", height=10, ratio=3) #kind: 'scatter', 'reg', 'resid', 'kde', or 'hex'"
      ]
    },
    {
      "cell_type": "markdown",
      "metadata": {
        "id": "jKYkcvlkUrlg"
      },
      "source": [
        "\n",
        "Sometimes we have data where a linear regression doesnt quite make sense though:\n",
        "\n",
        "### Nonlinear Regressions"
      ]
    },
    {
      "cell_type": "code",
      "execution_count": null,
      "metadata": {
        "id": "aYAWu9D9Urlg"
      },
      "outputs": [],
      "source": [
        "# anscombe = sns.load_dataset(\"anscombe\")\n",
        "# sns.lmplot(x=\"x\", y=\"y\", data=anscombe.query(\"dataset == 'II'\"), order=2)\n",
        "sns.lmplot(x=\"views\", y=\"comment_count\", data=cats, x_estimator=np.mean, logx=True)"
      ]
    },
    {
      "cell_type": "markdown",
      "metadata": {
        "id": "pi3T2dhVUrlg"
      },
      "source": [
        "This concludes the lesson\n",
        "\n",
        "        In this we went through\n",
        "            The basics of filtering in Pandas\n",
        "            Syntax for numpy and pandas\n",
        "            Advanced dataframe creation techniques\n",
        "            Beautiful vizualizations using Seaborn\n",
        "            Computing Statistics in Pandas"
      ]
    },
    {
      "cell_type": "markdown",
      "metadata": {
        "id": "qo-p4fHvUrlg"
      },
      "source": [
        "https://seaborn.pydata.org/api.html"
      ]
    },
    {
      "cell_type": "code",
      "execution_count": null,
      "metadata": {
        "id": "GXjeJCOzUrli"
      },
      "outputs": [],
      "source": []
    }
  ],
  "metadata": {
    "colab": {
      "name": "Python_for_data_science-Youtube-Data.ipynb",
      "provenance": [],
      "collapsed_sections": [],
      "include_colab_link": true
    },
    "kernelspec": {
      "display_name": "Python 3",
      "language": "python",
      "name": "python3"
    },
    "language_info": {
      "codemirror_mode": {
        "name": "ipython",
        "version": 3
      },
      "file_extension": ".py",
      "mimetype": "text/x-python",
      "name": "python",
      "nbconvert_exporter": "python",
      "pygments_lexer": "ipython3",
      "version": "3.7.9"
    }
  },
  "nbformat": 4,
  "nbformat_minor": 0
}